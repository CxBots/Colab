{
  "nbformat": 4,
  "nbformat_minor": 0,
  "metadata": {
    "colab": {
      "name": "Torrent to Gdrive✅",
      "provenance": [],
      "collapsed_sections": [],
      "authorship_tag": "ABX9TyPP4Vzh1DfCCxuqBTmtxwTq",
      "include_colab_link": true
    },
    "kernelspec": {
      "name": "python3",
      "display_name": "Python 3"
    },
    "language_info": {
      "name": "python"
    }
  },
  "cells": [
    {
      "cell_type": "markdown",
      "metadata": {
        "id": "view-in-github",
        "colab_type": "text"
      },
      "source": [
        "<a href=\"https://colab.research.google.com/github/james00000007/Google-Colaboratory/blob/main/Torrent%20to%20Gdrive%E2%9C%85.ipynb\" target=\"_parent\"><img src=\"https://colab.research.google.com/assets/colab-badge.svg\" alt=\"Open In Colab\"/></a>"
      ]
    },
    {
      "cell_type": "code",
      "source": [
        "#@markdown  ← Current Python Version\n",
        "!python -V"
      ],
      "metadata": {
        "cellView": "form",
        "id": "1P5L0ep7m6cW"
      },
      "execution_count": null,
      "outputs": []
    },
    {
      "cell_type": "code",
      "execution_count": null,
      "metadata": {
        "cellView": "form",
        "id": "ZqwUFwyMmdSj"
      },
      "outputs": [],
      "source": [
        "#@markdown <h3> ⬅️ Prevent Google Colab from disconnecting | AUTO RECONNECT\n",
        "import IPython\n",
        "from google.colab import output\n",
        "\n",
        "display(IPython.display.Javascript('''\n",
        " function ClickConnect(){\n",
        "   btn = document.querySelector(\"colab-connect-button\")\n",
        "   if (btn != null){\n",
        "     console.log(\"Click colab-connect-button\"); \n",
        "     btn.click() \n",
        "     }\n",
        "   \n",
        "   btn = document.getElementById('ok')\n",
        "   if (btn != null){\n",
        "     console.log(\"Click reconnect\"); \n",
        "     btn.click() \n",
        "     }\n",
        "  }\n",
        "  \n",
        "setInterval(ClickConnect,60000)\n",
        "'''))\n",
        "\n",
        "print(\"Done.\")"
      ]
    },
    {
      "cell_type": "code",
      "source": [
        "#@markdown <h3>⬅ Mount Google Drive</h3>\n",
        "import os, uuid; import ipywidgets as widgets\n",
        "from IPython.display import clear_output\n",
        "from google.colab import drive, output\n",
        " \n",
        "class MakeButton(object):\n",
        "  def __init__(self, title, callback, style):\n",
        "    self._title = title\n",
        "    self._callback = callback\n",
        "    self._style = style\n",
        "  def _repr_html_(self):\n",
        "    callback_id = 'button-' + str(uuid.uuid4())\n",
        "    output.register_callback(callback_id, self._callback)\n",
        "    if self._style != \"\":\n",
        "      style_html = \"p-Widget jupyter-widgets jupyter-button widget-button mod-\" + self._style\n",
        "    else:\n",
        "      style_html = \"p-Widget jupyter-widgets jupyter-button widget-button\"\n",
        "    template = \"\"\"<button class=\"{style_html}\" id=\"{callback_id}\">{title}</button>\n",
        "        <script>\n",
        "          document.querySelector(\"#{callback_id}\").onclick = (e) => {{\n",
        "            google.colab.kernel.invokeFunction('{callback_id}', [], {{}})\n",
        "            e.preventDefault();\n",
        "          }};\n",
        "        </script>\"\"\"\n",
        "    html = template.format(title=self._title, callback_id=callback_id, style_html=style_html)\n",
        "    return html\n",
        "  \n",
        "def MakeLabel(description, button_style):\n",
        "  return widgets.Button(description=description, disabled=True, button_style=button_style)\n",
        "    \n",
        "def DemountForm():\n",
        "  clear_output(wait=True)\n",
        "  display(MakeLabel(\"Demount Confirm?\", \"\"), MakeButton(\"Confirm\", Demount, \"danger\"), MakeButton(\"Cancel\", ShowGD, \"warning\"))\n",
        "    \n",
        "def Demount():\n",
        "  clear_output(wait=True)\n",
        "  get_ipython().system_raw(\"pkill -9 -e -f drive\")\n",
        "  !rm -rf /root/.config/Google/DriveFS/\n",
        "  !echo \"If you want to mount Google Drive run this cell again.\"\n",
        "  \n",
        "def ShowGD():\n",
        "  try:\n",
        "    RefreshPath()\n",
        "  except:\n",
        "    clear_output(wait=True)\n",
        "  display(MakeLabel(\"Control Panel\", \"\"), MakeButton(\"Demount\", DemountForm, \"danger\"))\n",
        " \n",
        "while not os.path.exists(\"/content/drive\"):\n",
        "  try:\n",
        "    drive.mount(\"/content/drive\")\n",
        "    clear_output(wait=True)\n",
        "  except:\n",
        "    clear_output(wait=True)\n",
        "    \n",
        "ShowGD()"
      ],
      "metadata": {
        "cellView": "form",
        "id": "QuqDvB9_m-xv"
      },
      "execution_count": null,
      "outputs": []
    },
    {
      "cell_type": "code",
      "source": [
        "#@markdown <h3>⬅ To Mount Another Gdrive!</h3>\n",
        "!apt-get install -y -qq software-properties-common python-software-properties module-init-tools\n",
        "!add-apt-repository -y ppa:alessandro-strada/ppa 2>&1 > /dev/null\n",
        "!apt-get update -qq 2>&1 > /dev/null\n",
        "!apt-get -y install -qq google-drive-ocamlfuse fuse\n",
        "from google.colab import auth\n",
        "auth.authenticate_user()\n",
        "from oauth2client.client import GoogleCredentials\n",
        "creds = GoogleCredentials.get_application_default()\n",
        "import getpass\n",
        "!google-drive-ocamlfuse -headless -id={creds.client_id} -secret={creds.client_secret} < /dev/null 2>&1 | grep URL\n",
        "vcode = getpass.getpass()\n",
        "!echo {vcode} | google-drive-ocamlfuse -headless -id={creds.client_id} -secret={creds.client_secret}\n",
        "!sudo mkdir /content/drive1\n",
        "!google-drive-ocamlfuse /content/drive1"
      ],
      "metadata": {
        "cellView": "form",
        "id": "miQy5T5TnEP5"
      },
      "execution_count": null,
      "outputs": []
    },
    {
      "cell_type": "markdown",
      "metadata": {
        "id": "WanlireZOjvx"
      },
      "source": [
        "## <img src='https://colab.research.google.com/img/colab_favicon_256px.png' height=\"30\" alt=\"colab\" />  __Torrent to Gdrive__\n",
        "\n"
      ]
    },
    {
      "cell_type": "code",
      "execution_count": null,
      "metadata": {
        "cellView": "form",
        "id": "m6hF0emftx4h"
      },
      "outputs": [],
      "source": [
        "#@title\n",
        "#@markdown <h3>⬅️ Click Here to START server</h3>\n",
        "\n",
        "!python -m pip install --upgrade pip setuptools wheel\n",
        "!python -m pip install lbry-libtorrent\n",
        "!apt install python3-libtorrent\n",
        "\n",
        "!apt install python3-libtorrent\n",
        "\n",
        "import libtorrent as lt\n",
        "\n",
        "ses = lt.session()\n",
        "ses.listen_on(6881, 6891)\n",
        "downloads = []\n",
        "\n",
        "from IPython.display import HTML, clear_output\n",
        "\n",
        "clear_output()\n",
        "\n",
        "print(\"Server Started Successfully\")\n",
        "\n"
      ]
    },
    {
      "cell_type": "code",
      "execution_count": null,
      "metadata": {
        "cellView": "form",
        "id": "0et2A6N3udA0"
      },
      "outputs": [],
      "source": [
        "#@title\n",
        "#@markdown <h3>⬅️ Click Here to </h3>\n",
        "#@markdown <h3>Upload torrent file</h3>\n",
        "#@markdown <h5>You can run this cell to add more files as many times as you want</h5><br>\n",
        "\n",
        "\n",
        "\n",
        "from google.colab import files\n",
        "\n",
        "source = files.upload()\n",
        "params = {\n",
        "    \"save_path\": \"/content/drive/My Drive/Torrent\",\n",
        "    \"ti\": lt.torrent_info(list(source.keys())[0]),\n",
        "}\n",
        "downloads.append(ses.add_torrent(params))"
      ]
    },
    {
      "cell_type": "code",
      "execution_count": null,
      "metadata": {
        "cellView": "form",
        "id": "Cwi1GMlxy3te"
      },
      "outputs": [],
      "source": [
        "#@title\n",
        "#@markdown <h3>⬅️ Click Here to </h3>\n",
        "#@markdown <h3>Add From Magnet Link</h3>\n",
        "#@markdown <h5>You can run this cell to add more files as many times as you want</h5><br>\n",
        "\n",
        "\n",
        "params = {\"save_path\": \"/content/drive/\"}\n",
        "\n",
        "while True:\n",
        "    magnet_link = input(\"Enter Magnet Link Or Type Exit: \")\n",
        "    if magnet_link.lower() == \"exit\":\n",
        "        break\n",
        "    downloads.append(\n",
        "        lt.add_magnet_uri(ses, magnet_link, params)\n",
        "    )\n"
      ]
    },
    {
      "cell_type": "code",
      "execution_count": null,
      "metadata": {
        "cellView": "form",
        "colab": {
          "background_save": true
        },
        "id": "DBNoYYoSuDBT"
      },
      "outputs": [],
      "source": [
        "#@title\n",
        "#@markdown <h3>⬅️ Click Here to Start Download</h3>\n",
        "import time\n",
        "from IPython.display import display\n",
        "import ipywidgets as widgets\n",
        "\n",
        "state_str = [\n",
        "    \"queued\",\n",
        "    \"checking\",\n",
        "    \"downloading metadata\",\n",
        "    \"downloading\",\n",
        "    \"finished\",\n",
        "    \"seeding\",\n",
        "    \"allocating\",\n",
        "    \"checking fastresume\",\n",
        "]\n",
        "\n",
        "layout = widgets.Layout(width=\"auto\")\n",
        "style = {\"description_width\": \"initial\"}\n",
        "download_bars = [\n",
        "    widgets.FloatSlider(\n",
        "        step=0.01, disabled=True, layout=layout, style=style\n",
        "    )\n",
        "    for _ in downloads\n",
        "]\n",
        "display(*download_bars)\n",
        "\n",
        "while downloads:\n",
        "    next_shift = 0\n",
        "    for index, download in enumerate(downloads[:]):\n",
        "        bar = download_bars[index + next_shift]\n",
        "        if not download.is_seed():\n",
        "            s = download.status()\n",
        "\n",
        "            bar.description = \" \".join(\n",
        "                [\n",
        "                    download.name(),\n",
        "                    str(s.download_rate / 1000),\n",
        "                    \"kB/s\",\n",
        "                    state_str[s.state],\n",
        "                ]\n",
        "            )\n",
        "            bar.value = s.progress * 100\n",
        "        else:\n",
        "            next_shift -= 1\n",
        "            ses.remove_torrent(download)\n",
        "            downloads.remove(download)\n",
        "            bar.close() # Seems to be not working in Colab (see https://github.com/googlecolab/colabtools/issues/726#issue-486731758)\n",
        "            download_bars.remove(bar)\n",
        "            print(download.name(), \"complete\")\n",
        "    time.sleep(1)\n"
      ]
    }
  ]
}