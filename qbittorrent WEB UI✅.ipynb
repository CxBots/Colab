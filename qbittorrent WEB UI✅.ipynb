{
  "nbformat": 4,
  "nbformat_minor": 0,
  "metadata": {
    "colab": {
      "name": "qbittorrent WEB-UI✅",
      "provenance": [],
      "authorship_tag": "ABX9TyO4ajM+yrEOdv0xfJhD7LnW",
      "include_colab_link": true
    },
    "kernelspec": {
      "name": "python3",
      "display_name": "Python 3"
    },
    "language_info": {
      "name": "python"
    }
  },
  "cells": [
    {
      "cell_type": "markdown",
      "metadata": {
        "id": "view-in-github",
        "colab_type": "text"
      },
      "source": [
        "<a href=\"https://colab.research.google.com/github/james00000007/Google-Colaboratory/blob/main/qbittorrent%20WEB%20UI%E2%9C%85.ipynb\" target=\"_parent\"><img src=\"https://colab.research.google.com/assets/colab-badge.svg\" alt=\"Open In Colab\"/></a>"
      ]
    },
    {
      "cell_type": "code",
      "execution_count": null,
      "metadata": {
        "cellView": "form",
        "id": "2PTJvKW4-L1b"
      },
      "outputs": [],
      "source": [
        "#@markdown  ← Current Python Version\n",
        "!python -V"
      ]
    },
    {
      "cell_type": "code",
      "source": [
        "#@markdown <h3> ⬅️ Prevent Google Colab from disconnecting | AUTO RECONNECT\n",
        "import IPython\n",
        "from google.colab import output\n",
        "\n",
        "display(IPython.display.Javascript('''\n",
        " function ClickConnect(){\n",
        "   btn = document.querySelector(\"colab-connect-button\")\n",
        "   if (btn != null){\n",
        "     console.log(\"Click colab-connect-button\"); \n",
        "     btn.click() \n",
        "     }\n",
        "   \n",
        "   btn = document.getElementById('ok')\n",
        "   if (btn != null){\n",
        "     console.log(\"Click reconnect\"); \n",
        "     btn.click() \n",
        "     }\n",
        "  }\n",
        "  \n",
        "setInterval(ClickConnect,60000)\n",
        "'''))\n",
        "\n",
        "print(\"Done.\")"
      ],
      "metadata": {
        "cellView": "form",
        "id": "QEqGzOj0-Oke"
      },
      "execution_count": null,
      "outputs": []
    },
    {
      "cell_type": "code",
      "source": [
        "#@markdown <h3>⬅ Mount Google Drive</h3>\n",
        "import os, uuid; import ipywidgets as widgets\n",
        "from IPython.display import clear_output\n",
        "from google.colab import drive, output\n",
        " \n",
        "class MakeButton(object):\n",
        "  def __init__(self, title, callback, style):\n",
        "    self._title = title\n",
        "    self._callback = callback\n",
        "    self._style = style\n",
        "  def _repr_html_(self):\n",
        "    callback_id = 'button-' + str(uuid.uuid4())\n",
        "    output.register_callback(callback_id, self._callback)\n",
        "    if self._style != \"\":\n",
        "      style_html = \"p-Widget jupyter-widgets jupyter-button widget-button mod-\" + self._style\n",
        "    else:\n",
        "      style_html = \"p-Widget jupyter-widgets jupyter-button widget-button\"\n",
        "    template = \"\"\"<button class=\"{style_html}\" id=\"{callback_id}\">{title}</button>\n",
        "        <script>\n",
        "          document.querySelector(\"#{callback_id}\").onclick = (e) => {{\n",
        "            google.colab.kernel.invokeFunction('{callback_id}', [], {{}})\n",
        "            e.preventDefault();\n",
        "          }};\n",
        "        </script>\"\"\"\n",
        "    html = template.format(title=self._title, callback_id=callback_id, style_html=style_html)\n",
        "    return html\n",
        "  \n",
        "def MakeLabel(description, button_style):\n",
        "  return widgets.Button(description=description, disabled=True, button_style=button_style)\n",
        "    \n",
        "def DemountForm():\n",
        "  clear_output(wait=True)\n",
        "  display(MakeLabel(\"Demount Confirm?\", \"\"), MakeButton(\"Confirm\", Demount, \"danger\"), MakeButton(\"Cancel\", ShowGD, \"warning\"))\n",
        "    \n",
        "def Demount():\n",
        "  clear_output(wait=True)\n",
        "  get_ipython().system_raw(\"pkill -9 -e -f drive\")\n",
        "  !rm -rf /root/.config/Google/DriveFS/\n",
        "  !echo \"If you want to mount Google Drive run this cell again.\"\n",
        "  \n",
        "def ShowGD():\n",
        "  try:\n",
        "    RefreshPath()\n",
        "  except:\n",
        "    clear_output(wait=True)\n",
        "  display(MakeLabel(\"Control Panel\", \"\"), MakeButton(\"Demount\", DemountForm, \"danger\"))\n",
        " \n",
        "while not os.path.exists(\"/content/drive\"):\n",
        "  try:\n",
        "    drive.mount(\"/content/drive\")\n",
        "    clear_output(wait=True)\n",
        "  except:\n",
        "    clear_output(wait=True)\n",
        "    \n",
        "ShowGD()"
      ],
      "metadata": {
        "cellView": "form",
        "id": "QuqDvB9_m-xv"
      },
      "execution_count": null,
      "outputs": []
    },
    {
      "cell_type": "markdown",
      "metadata": {
        "id": "fkaNFMaxHDWz"
      },
      "source": [
        "---\n",
        "# <img src='https://raw.githubusercontent.com/sudo-ken/Torrents-to-Google-Drive/master/title_qbittorrent.png' height=\"45\" alt=\"qBittorrent\"/>\n",
        "\n",
        "###**<font color=\"red\">Update</font> - replaced ngrok with localtunnel**\n",
        "* Install localtunnel **first** and then install qbittorrent, then it'll give you a URL for the WEB-UI."
      ]
    },
    {
      "cell_type": "code",
      "execution_count": null,
      "metadata": {
        "cellView": "form",
        "colab": {
          "base_uri": "https://localhost:8080/"
        },
        "id": "z3GBOoFFY9CB",
        "outputId": "87fba14b-f6ae-4540-8bce-9e826aa31f6c"
      },
      "outputs": [
        {
          "name": "stdout",
          "output_type": "stream",
          "text": [
            "\u001b[K\u001b[?25h/tools/node/bin/lt -> /tools/node/lib/node_modules/localtunnel/bin/lt.js\n",
            "+ localtunnel@2.0.2\n",
            "added 22 packages from 22 contributors in 1.745s\n"
          ]
        }
      ],
      "source": [
        "#@markdown <h3>INSTALL LOCALTUNNEL</h3>\n",
        "!npm install -g localtunnel\n"
      ]
    },
    {
      "cell_type": "code",
      "execution_count": null,
      "metadata": {
        "cellView": "form",
        "colab": {
          "background_save": true,
          "base_uri": "https://localhost:8080/"
        },
        "id": "ELoHkXE1Xnms",
        "outputId": "acc09a08-8552-4bb8-9448-f67613986dba"
      },
      "outputs": [
        {
          "name": "stdout",
          "output_type": "stream",
          "text": [
            "qBittorrent successfully installed.\n",
            "qBittorrent started \n",
            "Rclone successfully installed\n",
            "your url is: https://sweet-shrimp-36.loca.lt\n"
          ]
        }
      ],
      "source": [
        "# ============================= FORM ============================= #\n",
        "#@markdown <h3>📝 INSTALL QBITTORRENT</h3>\n",
        "import os, time, urllib.request, json; from IPython.display import clear_output\n",
        "\n",
        "\n",
        "if os.path.isfile(\"/usr/bin/qbittorrent-nox\") == False:\n",
        "    get_ipython().system_raw(\"apt update -qq -y && yes \"\" | add-apt-repository ppa:qbittorrent-team/qbittorrent-stable\")\n",
        "    get_ipython().system_raw(\"apt install qbittorrent-nox\")\n",
        "    get_ipython().system_raw(\"mkdir -p -m 666 /{content/qBittorrent,root/{.qBittorrent_temp,.config/qBittorrent}} && curl -s https://pastebin.com/raw/7TEALGNz -o /root/.config/qBittorrent/qBittorrent.conf\")\n",
        "    print(\"qBittorrent successfully installed.\")\n",
        "    clear_output(wait=True)\n",
        "else:\n",
        "    print(\"qBittorrent already installed. Skipping...\")\n",
        "    clear_output(wait=True)\n",
        "    !pkill qbittorrent-nox\n",
        "    \n",
        "!qbittorrent-nox -d --webui-port=5454\n",
        "print(\"qBittorrent started \")\n",
        "clear_output(wait=True)\n",
        "\n",
        "if os.path.isfile(\"/usr/bin/rclone\") == False:\n",
        "    get_ipython().system_raw('curl https://rclone.org/install.sh | sudo bash &')\n",
        "    print(\"Rclone successfully installed\")\n",
        "    clear_output(wait=True)\n",
        "else:\n",
        "    print(\"Rclone already installed. Skipping...\")\n",
        "    clear_output(wait=True)\n",
        "\n",
        "!lt --port 5454"
      ]
    }
  ]
}